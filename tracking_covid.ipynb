{
  "nbformat": 4,
  "nbformat_minor": 0,
  "metadata": {
    "kernelspec": {
      "display_name": "Python 3",
      "language": "python",
      "name": "python3"
    },
    "language_info": {
      "codemirror_mode": {
        "name": "ipython",
        "version": 3
      },
      "file_extension": ".py",
      "mimetype": "text/x-python",
      "name": "python",
      "nbconvert_exporter": "python",
      "pygments_lexer": "ipython3",
      "version": "3.7.6"
    },
    "colab": {
      "name": "tracking_covid",
      "provenance": []
    }
  },
  "cells": [
    {
      "cell_type": "code",
      "metadata": {
        "id": "i8tmnv4aEBxQ"
      },
      "source": [
        "import pandas as pd\n",
        "import numpy as np\n",
        "import matplotlib.pyplot as plt\n",
        "import seaborn as sns\n",
        "from numpy import log as lg"
      ],
      "execution_count": 1,
      "outputs": []
    },
    {
      "cell_type": "code",
      "metadata": {
        "id": "1jIWX20QEyQb",
        "outputId": "3348c371-ad57-47d8-ba50-126550fe49c4",
        "colab": {
          "base_uri": "https://localhost:8080/",
          "height": 34
        }
      },
      "source": [
        "!git clone https://github.com/CSSEGISandData/COVID-19"
      ],
      "execution_count": 2,
      "outputs": [
        {
          "output_type": "stream",
          "text": [
            "fatal: destination path 'COVID-19' already exists and is not an empty directory.\n"
          ],
          "name": "stdout"
        }
      ]
    },
    {
      "cell_type": "code",
      "metadata": {
        "id": "Zw2kovxYGVm5",
        "outputId": "121843c3-6523-4f9e-ab9d-94f4ecb064d5",
        "colab": {
          "base_uri": "https://localhost:8080/",
          "height": 697
        }
      },
      "source": [
        "!ls COVID-19/csse_covid_19_data/csse_covid_19_daily_reports_us"
      ],
      "execution_count": 3,
      "outputs": [
        {
          "output_type": "stream",
          "text": [
            "04-12-2020.csv\t05-22-2020.csv\t07-01-2020.csv\t08-10-2020.csv\t09-19-2020.csv\n",
            "04-13-2020.csv\t05-23-2020.csv\t07-02-2020.csv\t08-11-2020.csv\t09-20-2020.csv\n",
            "04-14-2020.csv\t05-24-2020.csv\t07-03-2020.csv\t08-12-2020.csv\t09-21-2020.csv\n",
            "04-15-2020.csv\t05-25-2020.csv\t07-04-2020.csv\t08-13-2020.csv\t09-22-2020.csv\n",
            "04-16-2020.csv\t05-26-2020.csv\t07-05-2020.csv\t08-14-2020.csv\t09-23-2020.csv\n",
            "04-17-2020.csv\t05-27-2020.csv\t07-06-2020.csv\t08-15-2020.csv\t09-24-2020.csv\n",
            "04-18-2020.csv\t05-28-2020.csv\t07-07-2020.csv\t08-16-2020.csv\t09-25-2020.csv\n",
            "04-19-2020.csv\t05-29-2020.csv\t07-08-2020.csv\t08-17-2020.csv\t09-26-2020.csv\n",
            "04-20-2020.csv\t05-30-2020.csv\t07-09-2020.csv\t08-18-2020.csv\t09-27-2020.csv\n",
            "04-21-2020.csv\t05-31-2020.csv\t07-10-2020.csv\t08-19-2020.csv\t09-28-2020.csv\n",
            "04-22-2020.csv\t06-01-2020.csv\t07-11-2020.csv\t08-20-2020.csv\t09-29-2020.csv\n",
            "04-23-2020.csv\t06-02-2020.csv\t07-12-2020.csv\t08-21-2020.csv\t09-30-2020.csv\n",
            "04-24-2020.csv\t06-03-2020.csv\t07-13-2020.csv\t08-22-2020.csv\t10-01-2020.csv\n",
            "04-25-2020.csv\t06-04-2020.csv\t07-14-2020.csv\t08-23-2020.csv\t10-02-2020.csv\n",
            "04-26-2020.csv\t06-05-2020.csv\t07-15-2020.csv\t08-24-2020.csv\t10-03-2020.csv\n",
            "04-27-2020.csv\t06-06-2020.csv\t07-16-2020.csv\t08-25-2020.csv\t10-04-2020.csv\n",
            "04-28-2020.csv\t06-07-2020.csv\t07-17-2020.csv\t08-26-2020.csv\t10-05-2020.csv\n",
            "04-29-2020.csv\t06-08-2020.csv\t07-18-2020.csv\t08-27-2020.csv\t10-06-2020.csv\n",
            "04-30-2020.csv\t06-09-2020.csv\t07-19-2020.csv\t08-28-2020.csv\t10-07-2020.csv\n",
            "05-01-2020.csv\t06-10-2020.csv\t07-20-2020.csv\t08-29-2020.csv\t10-08-2020.csv\n",
            "05-02-2020.csv\t06-11-2020.csv\t07-21-2020.csv\t08-30-2020.csv\t10-09-2020.csv\n",
            "05-03-2020.csv\t06-12-2020.csv\t07-22-2020.csv\t08-31-2020.csv\t10-10-2020.csv\n",
            "05-04-2020.csv\t06-13-2020.csv\t07-23-2020.csv\t09-01-2020.csv\t10-11-2020.csv\n",
            "05-05-2020.csv\t06-14-2020.csv\t07-24-2020.csv\t09-02-2020.csv\t10-12-2020.csv\n",
            "05-06-2020.csv\t06-15-2020.csv\t07-25-2020.csv\t09-03-2020.csv\t10-13-2020.csv\n",
            "05-07-2020.csv\t06-16-2020.csv\t07-26-2020.csv\t09-04-2020.csv\t10-14-2020.csv\n",
            "05-08-2020.csv\t06-17-2020.csv\t07-27-2020.csv\t09-05-2020.csv\t10-15-2020.csv\n",
            "05-09-2020.csv\t06-18-2020.csv\t07-28-2020.csv\t09-06-2020.csv\t10-16-2020.csv\n",
            "05-10-2020.csv\t06-19-2020.csv\t07-29-2020.csv\t09-07-2020.csv\t10-17-2020.csv\n",
            "05-11-2020.csv\t06-20-2020.csv\t07-30-2020.csv\t09-08-2020.csv\t10-18-2020.csv\n",
            "05-12-2020.csv\t06-21-2020.csv\t07-31-2020.csv\t09-09-2020.csv\t10-19-2020.csv\n",
            "05-13-2020.csv\t06-22-2020.csv\t08-01-2020.csv\t09-10-2020.csv\t10-20-2020.csv\n",
            "05-14-2020.csv\t06-23-2020.csv\t08-02-2020.csv\t09-11-2020.csv\t10-21-2020.csv\n",
            "05-15-2020.csv\t06-24-2020.csv\t08-03-2020.csv\t09-12-2020.csv\t10-22-2020.csv\n",
            "05-16-2020.csv\t06-25-2020.csv\t08-04-2020.csv\t09-13-2020.csv\t10-23-2020.csv\n",
            "05-17-2020.csv\t06-26-2020.csv\t08-05-2020.csv\t09-14-2020.csv\t10-24-2020.csv\n",
            "05-18-2020.csv\t06-27-2020.csv\t08-06-2020.csv\t09-15-2020.csv\tREADME.md\n",
            "05-19-2020.csv\t06-28-2020.csv\t08-07-2020.csv\t09-16-2020.csv\n",
            "05-20-2020.csv\t06-29-2020.csv\t08-08-2020.csv\t09-17-2020.csv\n",
            "05-21-2020.csv\t06-30-2020.csv\t08-09-2020.csv\t09-18-2020.csv\n"
          ],
          "name": "stdout"
        }
      ]
    },
    {
      "cell_type": "code",
      "metadata": {
        "id": "UL4NzZXmIF4k"
      },
      "source": [
        "df_daily = pd.DataFrame()\n",
        "for i in range(1, 13):\n",
        "  if i < 10:\n",
        "    month = '0' + str(i)\n",
        "  elif i >= 10:\n",
        "    month = str(i)\n",
        "  for p in range(1, 33):\n",
        "    if p < 10:\n",
        "      day = '0' + str(p)\n",
        "    elif p >= 10:\n",
        "      day = str(p)\n",
        "    try:\n",
        "      df_hold = pd.read_csv('COVID-19/csse_covid_19_data/csse_covid_19_daily_reports_us/' + month + '-' + day + '-2020.csv')\n",
        "      df_daily = pd.concat([df_daily, df_hold])\n",
        "    except: FileNotFoundError\n",
        "      "
      ],
      "execution_count": 4,
      "outputs": []
    },
    {
      "cell_type": "code",
      "metadata": {
        "id": "CATWc_NsEBxi",
        "outputId": "1c1aa8b0-b60f-4c81-8333-3c2ca8c0a28e",
        "colab": {
          "base_uri": "https://localhost:8080/",
          "height": 326
        }
      },
      "source": [
        "display(df_daily.shape)\n",
        "df_daily.head()"
      ],
      "execution_count": 5,
      "outputs": [
        {
          "output_type": "display_data",
          "data": {
            "text/plain": [
              "(11386, 18)"
            ]
          },
          "metadata": {
            "tags": []
          }
        },
        {
          "output_type": "execute_result",
          "data": {
            "text/html": [
              "<div>\n",
              "<style scoped>\n",
              "    .dataframe tbody tr th:only-of-type {\n",
              "        vertical-align: middle;\n",
              "    }\n",
              "\n",
              "    .dataframe tbody tr th {\n",
              "        vertical-align: top;\n",
              "    }\n",
              "\n",
              "    .dataframe thead th {\n",
              "        text-align: right;\n",
              "    }\n",
              "</style>\n",
              "<table border=\"1\" class=\"dataframe\">\n",
              "  <thead>\n",
              "    <tr style=\"text-align: right;\">\n",
              "      <th></th>\n",
              "      <th>Province_State</th>\n",
              "      <th>Country_Region</th>\n",
              "      <th>Last_Update</th>\n",
              "      <th>Lat</th>\n",
              "      <th>Long_</th>\n",
              "      <th>Confirmed</th>\n",
              "      <th>Deaths</th>\n",
              "      <th>Recovered</th>\n",
              "      <th>Active</th>\n",
              "      <th>FIPS</th>\n",
              "      <th>Incident_Rate</th>\n",
              "      <th>People_Tested</th>\n",
              "      <th>People_Hospitalized</th>\n",
              "      <th>Mortality_Rate</th>\n",
              "      <th>UID</th>\n",
              "      <th>ISO3</th>\n",
              "      <th>Testing_Rate</th>\n",
              "      <th>Hospitalization_Rate</th>\n",
              "    </tr>\n",
              "  </thead>\n",
              "  <tbody>\n",
              "    <tr>\n",
              "      <th>0</th>\n",
              "      <td>Alabama</td>\n",
              "      <td>US</td>\n",
              "      <td>2020-04-12 23:18:15</td>\n",
              "      <td>32.3182</td>\n",
              "      <td>-86.9023</td>\n",
              "      <td>3563</td>\n",
              "      <td>93</td>\n",
              "      <td>NaN</td>\n",
              "      <td>3470.0</td>\n",
              "      <td>1.0</td>\n",
              "      <td>75.988020</td>\n",
              "      <td>21583.0</td>\n",
              "      <td>437.0</td>\n",
              "      <td>2.610160</td>\n",
              "      <td>84000001.0</td>\n",
              "      <td>USA</td>\n",
              "      <td>460.300152</td>\n",
              "      <td>12.264945</td>\n",
              "    </tr>\n",
              "    <tr>\n",
              "      <th>1</th>\n",
              "      <td>Alaska</td>\n",
              "      <td>US</td>\n",
              "      <td>2020-04-12 23:18:15</td>\n",
              "      <td>61.3707</td>\n",
              "      <td>-152.4044</td>\n",
              "      <td>272</td>\n",
              "      <td>8</td>\n",
              "      <td>66.0</td>\n",
              "      <td>264.0</td>\n",
              "      <td>2.0</td>\n",
              "      <td>45.504049</td>\n",
              "      <td>8038.0</td>\n",
              "      <td>31.0</td>\n",
              "      <td>2.941176</td>\n",
              "      <td>84000002.0</td>\n",
              "      <td>USA</td>\n",
              "      <td>1344.711576</td>\n",
              "      <td>11.397059</td>\n",
              "    </tr>\n",
              "    <tr>\n",
              "      <th>2</th>\n",
              "      <td>Arizona</td>\n",
              "      <td>US</td>\n",
              "      <td>2020-04-12 23:18:15</td>\n",
              "      <td>33.7298</td>\n",
              "      <td>-111.4312</td>\n",
              "      <td>3542</td>\n",
              "      <td>115</td>\n",
              "      <td>NaN</td>\n",
              "      <td>3427.0</td>\n",
              "      <td>4.0</td>\n",
              "      <td>48.662422</td>\n",
              "      <td>42109.0</td>\n",
              "      <td>NaN</td>\n",
              "      <td>3.246753</td>\n",
              "      <td>84000004.0</td>\n",
              "      <td>USA</td>\n",
              "      <td>578.522286</td>\n",
              "      <td>NaN</td>\n",
              "    </tr>\n",
              "    <tr>\n",
              "      <th>3</th>\n",
              "      <td>Arkansas</td>\n",
              "      <td>US</td>\n",
              "      <td>2020-04-12 23:18:15</td>\n",
              "      <td>34.9697</td>\n",
              "      <td>-92.3731</td>\n",
              "      <td>1280</td>\n",
              "      <td>27</td>\n",
              "      <td>367.0</td>\n",
              "      <td>1253.0</td>\n",
              "      <td>5.0</td>\n",
              "      <td>49.439423</td>\n",
              "      <td>19722.0</td>\n",
              "      <td>130.0</td>\n",
              "      <td>2.109375</td>\n",
              "      <td>84000005.0</td>\n",
              "      <td>USA</td>\n",
              "      <td>761.753354</td>\n",
              "      <td>10.156250</td>\n",
              "    </tr>\n",
              "    <tr>\n",
              "      <th>4</th>\n",
              "      <td>California</td>\n",
              "      <td>US</td>\n",
              "      <td>2020-04-12 23:18:15</td>\n",
              "      <td>36.1162</td>\n",
              "      <td>-119.6816</td>\n",
              "      <td>22795</td>\n",
              "      <td>640</td>\n",
              "      <td>NaN</td>\n",
              "      <td>22155.0</td>\n",
              "      <td>6.0</td>\n",
              "      <td>58.137726</td>\n",
              "      <td>190328.0</td>\n",
              "      <td>5234.0</td>\n",
              "      <td>2.812020</td>\n",
              "      <td>84000006.0</td>\n",
              "      <td>USA</td>\n",
              "      <td>485.423868</td>\n",
              "      <td>22.961176</td>\n",
              "    </tr>\n",
              "  </tbody>\n",
              "</table>\n",
              "</div>"
            ],
            "text/plain": [
              "  Province_State Country_Region  ... Testing_Rate  Hospitalization_Rate\n",
              "0        Alabama             US  ...   460.300152             12.264945\n",
              "1         Alaska             US  ...  1344.711576             11.397059\n",
              "2        Arizona             US  ...   578.522286                   NaN\n",
              "3       Arkansas             US  ...   761.753354             10.156250\n",
              "4     California             US  ...   485.423868             22.961176\n",
              "\n",
              "[5 rows x 18 columns]"
            ]
          },
          "metadata": {
            "tags": []
          },
          "execution_count": 5
        }
      ]
    },
    {
      "cell_type": "code",
      "metadata": {
        "id": "8QxaxmpVEBxn",
        "outputId": "e0d536d2-5aad-4b13-b65b-b24b999d973b",
        "colab": {
          "base_uri": "https://localhost:8080/",
          "height": 238
        }
      },
      "source": [
        "df_daily['Province_State'].unique()"
      ],
      "execution_count": 6,
      "outputs": [
        {
          "output_type": "execute_result",
          "data": {
            "text/plain": [
              "array(['Alabama', 'Alaska', 'Arizona', 'Arkansas', 'California',\n",
              "       'Colorado', 'Connecticut', 'Delaware', 'Diamond Princess',\n",
              "       'District of Columbia', 'Florida', 'Georgia', 'Grand Princess',\n",
              "       'Guam', 'Hawaii', 'Idaho', 'Illinois', 'Indiana', 'Iowa', 'Kansas',\n",
              "       'Kentucky', 'Louisiana', 'Maine', 'Maryland', 'Massachusetts',\n",
              "       'Michigan', 'Minnesota', 'Mississippi', 'Missouri', 'Montana',\n",
              "       'Nebraska', 'Nevada', 'New Hampshire', 'New Jersey', 'New Mexico',\n",
              "       'New York', 'North Carolina', 'North Dakota', 'Ohio', 'Oklahoma',\n",
              "       'Oregon', 'Pennsylvania', 'Puerto Rico', 'Rhode Island',\n",
              "       'South Carolina', 'South Dakota', 'Tennessee', 'Texas', 'Utah',\n",
              "       'Vermont', 'Virginia', 'Washington', 'West Virginia', 'Wisconsin',\n",
              "       'Wyoming', 'American Samoa', 'Northern Mariana Islands',\n",
              "       'Recovered', 'Virgin Islands'], dtype=object)"
            ]
          },
          "metadata": {
            "tags": []
          },
          "execution_count": 6
        }
      ]
    },
    {
      "cell_type": "code",
      "metadata": {
        "id": "PjbWOfqeEBxp",
        "outputId": "14fc3b9e-2480-4bb7-8665-6377da8feb9f",
        "colab": {
          "base_uri": "https://localhost:8080/",
          "height": 340
        }
      },
      "source": [
        "df_daily.set_index(\"Province_State\", inplace = True) \n",
        "tn_daily = df_daily.loc['Tennessee']\n",
        "tn_daily.head()"
      ],
      "execution_count": 7,
      "outputs": [
        {
          "output_type": "execute_result",
          "data": {
            "text/html": [
              "<div>\n",
              "<style scoped>\n",
              "    .dataframe tbody tr th:only-of-type {\n",
              "        vertical-align: middle;\n",
              "    }\n",
              "\n",
              "    .dataframe tbody tr th {\n",
              "        vertical-align: top;\n",
              "    }\n",
              "\n",
              "    .dataframe thead th {\n",
              "        text-align: right;\n",
              "    }\n",
              "</style>\n",
              "<table border=\"1\" class=\"dataframe\">\n",
              "  <thead>\n",
              "    <tr style=\"text-align: right;\">\n",
              "      <th></th>\n",
              "      <th>Country_Region</th>\n",
              "      <th>Last_Update</th>\n",
              "      <th>Lat</th>\n",
              "      <th>Long_</th>\n",
              "      <th>Confirmed</th>\n",
              "      <th>Deaths</th>\n",
              "      <th>Recovered</th>\n",
              "      <th>Active</th>\n",
              "      <th>FIPS</th>\n",
              "      <th>Incident_Rate</th>\n",
              "      <th>People_Tested</th>\n",
              "      <th>People_Hospitalized</th>\n",
              "      <th>Mortality_Rate</th>\n",
              "      <th>UID</th>\n",
              "      <th>ISO3</th>\n",
              "      <th>Testing_Rate</th>\n",
              "      <th>Hospitalization_Rate</th>\n",
              "    </tr>\n",
              "    <tr>\n",
              "      <th>Province_State</th>\n",
              "      <th></th>\n",
              "      <th></th>\n",
              "      <th></th>\n",
              "      <th></th>\n",
              "      <th></th>\n",
              "      <th></th>\n",
              "      <th></th>\n",
              "      <th></th>\n",
              "      <th></th>\n",
              "      <th></th>\n",
              "      <th></th>\n",
              "      <th></th>\n",
              "      <th></th>\n",
              "      <th></th>\n",
              "      <th></th>\n",
              "      <th></th>\n",
              "      <th></th>\n",
              "    </tr>\n",
              "  </thead>\n",
              "  <tbody>\n",
              "    <tr>\n",
              "      <th>Tennessee</th>\n",
              "      <td>US</td>\n",
              "      <td>2020-04-12 23:18:15</td>\n",
              "      <td>35.7478</td>\n",
              "      <td>-86.6923</td>\n",
              "      <td>5508</td>\n",
              "      <td>106</td>\n",
              "      <td>1504.0</td>\n",
              "      <td>5402.0</td>\n",
              "      <td>47.0</td>\n",
              "      <td>83.900374</td>\n",
              "      <td>70677.0</td>\n",
              "      <td>567.0</td>\n",
              "      <td>1.924473</td>\n",
              "      <td>84000047.0</td>\n",
              "      <td>USA</td>\n",
              "      <td>1076.584377</td>\n",
              "      <td>10.294118</td>\n",
              "    </tr>\n",
              "    <tr>\n",
              "      <th>Tennessee</th>\n",
              "      <td>US</td>\n",
              "      <td>2020-04-13 23:07:54</td>\n",
              "      <td>35.7478</td>\n",
              "      <td>-86.6923</td>\n",
              "      <td>5610</td>\n",
              "      <td>109</td>\n",
              "      <td>1671.0</td>\n",
              "      <td>5501.0</td>\n",
              "      <td>47.0</td>\n",
              "      <td>85.454085</td>\n",
              "      <td>76195.0</td>\n",
              "      <td>579.0</td>\n",
              "      <td>1.942959</td>\n",
              "      <td>84000047.0</td>\n",
              "      <td>USA</td>\n",
              "      <td>1160.637076</td>\n",
              "      <td>10.320856</td>\n",
              "    </tr>\n",
              "    <tr>\n",
              "      <th>Tennessee</th>\n",
              "      <td>US</td>\n",
              "      <td>2020-04-14 23:33:31</td>\n",
              "      <td>35.7478</td>\n",
              "      <td>-86.6923</td>\n",
              "      <td>5827</td>\n",
              "      <td>124</td>\n",
              "      <td>1969.0</td>\n",
              "      <td>5703.0</td>\n",
              "      <td>47.0</td>\n",
              "      <td>88.759528</td>\n",
              "      <td>78831.0</td>\n",
              "      <td>633.0</td>\n",
              "      <td>2.128025</td>\n",
              "      <td>84000047.0</td>\n",
              "      <td>USA</td>\n",
              "      <td>1200.789833</td>\n",
              "      <td>10.863223</td>\n",
              "    </tr>\n",
              "    <tr>\n",
              "      <th>Tennessee</th>\n",
              "      <td>US</td>\n",
              "      <td>2020-04-15 22:56:51</td>\n",
              "      <td>35.7478</td>\n",
              "      <td>-86.6923</td>\n",
              "      <td>5827</td>\n",
              "      <td>124</td>\n",
              "      <td>2196.0</td>\n",
              "      <td>5703.0</td>\n",
              "      <td>47.0</td>\n",
              "      <td>88.759528</td>\n",
              "      <td>80896.0</td>\n",
              "      <td>663.0</td>\n",
              "      <td>2.128025</td>\n",
              "      <td>84000047.0</td>\n",
              "      <td>USA</td>\n",
              "      <td>1232.244857</td>\n",
              "      <td>11.378068</td>\n",
              "    </tr>\n",
              "    <tr>\n",
              "      <th>Tennessee</th>\n",
              "      <td>US</td>\n",
              "      <td>2020-04-16 23:30:51</td>\n",
              "      <td>35.7478</td>\n",
              "      <td>-86.6923</td>\n",
              "      <td>6375</td>\n",
              "      <td>136</td>\n",
              "      <td>2786.0</td>\n",
              "      <td>6239.0</td>\n",
              "      <td>47.0</td>\n",
              "      <td>97.106915</td>\n",
              "      <td>85049.0</td>\n",
              "      <td>691.0</td>\n",
              "      <td>2.133333</td>\n",
              "      <td>84000047.0</td>\n",
              "      <td>USA</td>\n",
              "      <td>1295.505252</td>\n",
              "      <td>10.839216</td>\n",
              "    </tr>\n",
              "  </tbody>\n",
              "</table>\n",
              "</div>"
            ],
            "text/plain": [
              "               Country_Region  ... Hospitalization_Rate\n",
              "Province_State                 ...                     \n",
              "Tennessee                  US  ...            10.294118\n",
              "Tennessee                  US  ...            10.320856\n",
              "Tennessee                  US  ...            10.863223\n",
              "Tennessee                  US  ...            11.378068\n",
              "Tennessee                  US  ...            10.839216\n",
              "\n",
              "[5 rows x 17 columns]"
            ]
          },
          "metadata": {
            "tags": []
          },
          "execution_count": 7
        }
      ]
    },
    {
      "cell_type": "code",
      "metadata": {
        "id": "wD1w1WoEEBxx"
      },
      "source": [
        "plt.style.use('bmh')"
      ],
      "execution_count": 8,
      "outputs": []
    },
    {
      "cell_type": "code",
      "metadata": {
        "id": "ju7_8zK8EBx0",
        "outputId": "c1c5b5f0-500f-4c61-b01f-e0f05fff773b",
        "colab": {
          "base_uri": "https://localhost:8080/",
          "height": 139
        }
      },
      "source": [
        "tn_daily['Days_Tracked'] = range(1, len(tn_daily)+1)"
      ],
      "execution_count": 9,
      "outputs": [
        {
          "output_type": "stream",
          "text": [
            "/usr/local/lib/python3.6/dist-packages/ipykernel_launcher.py:1: SettingWithCopyWarning: \n",
            "A value is trying to be set on a copy of a slice from a DataFrame.\n",
            "Try using .loc[row_indexer,col_indexer] = value instead\n",
            "\n",
            "See the caveats in the documentation: https://pandas.pydata.org/pandas-docs/stable/user_guide/indexing.html#returning-a-view-versus-a-copy\n",
            "  \"\"\"Entry point for launching an IPython kernel.\n"
          ],
          "name": "stderr"
        }
      ]
    },
    {
      "cell_type": "code",
      "metadata": {
        "id": "saVq5lz5NAGE",
        "outputId": "82161f37-1f4c-4b9e-e4c6-093308e9afd8",
        "colab": {
          "base_uri": "https://localhost:8080/",
          "height": 442
        }
      },
      "source": [
        "tn_daily[['Date','Time_Reported']] = tn_daily.Last_Update.str.split(expand=True)\n",
        "tn_daily.head()"
      ],
      "execution_count": 10,
      "outputs": [
        {
          "output_type": "stream",
          "text": [
            "/usr/local/lib/python3.6/dist-packages/pandas/core/frame.py:3065: SettingWithCopyWarning: \n",
            "A value is trying to be set on a copy of a slice from a DataFrame.\n",
            "Try using .loc[row_indexer,col_indexer] = value instead\n",
            "\n",
            "See the caveats in the documentation: https://pandas.pydata.org/pandas-docs/stable/user_guide/indexing.html#returning-a-view-versus-a-copy\n",
            "  self[k1] = value[k2]\n"
          ],
          "name": "stderr"
        },
        {
          "output_type": "execute_result",
          "data": {
            "text/html": [
              "<div>\n",
              "<style scoped>\n",
              "    .dataframe tbody tr th:only-of-type {\n",
              "        vertical-align: middle;\n",
              "    }\n",
              "\n",
              "    .dataframe tbody tr th {\n",
              "        vertical-align: top;\n",
              "    }\n",
              "\n",
              "    .dataframe thead th {\n",
              "        text-align: right;\n",
              "    }\n",
              "</style>\n",
              "<table border=\"1\" class=\"dataframe\">\n",
              "  <thead>\n",
              "    <tr style=\"text-align: right;\">\n",
              "      <th></th>\n",
              "      <th>Country_Region</th>\n",
              "      <th>Last_Update</th>\n",
              "      <th>Lat</th>\n",
              "      <th>Long_</th>\n",
              "      <th>Confirmed</th>\n",
              "      <th>Deaths</th>\n",
              "      <th>Recovered</th>\n",
              "      <th>Active</th>\n",
              "      <th>FIPS</th>\n",
              "      <th>Incident_Rate</th>\n",
              "      <th>People_Tested</th>\n",
              "      <th>People_Hospitalized</th>\n",
              "      <th>Mortality_Rate</th>\n",
              "      <th>UID</th>\n",
              "      <th>ISO3</th>\n",
              "      <th>Testing_Rate</th>\n",
              "      <th>Hospitalization_Rate</th>\n",
              "      <th>Days_Tracked</th>\n",
              "      <th>Date</th>\n",
              "      <th>Time_Reported</th>\n",
              "    </tr>\n",
              "    <tr>\n",
              "      <th>Province_State</th>\n",
              "      <th></th>\n",
              "      <th></th>\n",
              "      <th></th>\n",
              "      <th></th>\n",
              "      <th></th>\n",
              "      <th></th>\n",
              "      <th></th>\n",
              "      <th></th>\n",
              "      <th></th>\n",
              "      <th></th>\n",
              "      <th></th>\n",
              "      <th></th>\n",
              "      <th></th>\n",
              "      <th></th>\n",
              "      <th></th>\n",
              "      <th></th>\n",
              "      <th></th>\n",
              "      <th></th>\n",
              "      <th></th>\n",
              "      <th></th>\n",
              "    </tr>\n",
              "  </thead>\n",
              "  <tbody>\n",
              "    <tr>\n",
              "      <th>Tennessee</th>\n",
              "      <td>US</td>\n",
              "      <td>2020-04-12 23:18:15</td>\n",
              "      <td>35.7478</td>\n",
              "      <td>-86.6923</td>\n",
              "      <td>5508</td>\n",
              "      <td>106</td>\n",
              "      <td>1504.0</td>\n",
              "      <td>5402.0</td>\n",
              "      <td>47.0</td>\n",
              "      <td>83.900374</td>\n",
              "      <td>70677.0</td>\n",
              "      <td>567.0</td>\n",
              "      <td>1.924473</td>\n",
              "      <td>84000047.0</td>\n",
              "      <td>USA</td>\n",
              "      <td>1076.584377</td>\n",
              "      <td>10.294118</td>\n",
              "      <td>1</td>\n",
              "      <td>2020-04-12</td>\n",
              "      <td>23:18:15</td>\n",
              "    </tr>\n",
              "    <tr>\n",
              "      <th>Tennessee</th>\n",
              "      <td>US</td>\n",
              "      <td>2020-04-13 23:07:54</td>\n",
              "      <td>35.7478</td>\n",
              "      <td>-86.6923</td>\n",
              "      <td>5610</td>\n",
              "      <td>109</td>\n",
              "      <td>1671.0</td>\n",
              "      <td>5501.0</td>\n",
              "      <td>47.0</td>\n",
              "      <td>85.454085</td>\n",
              "      <td>76195.0</td>\n",
              "      <td>579.0</td>\n",
              "      <td>1.942959</td>\n",
              "      <td>84000047.0</td>\n",
              "      <td>USA</td>\n",
              "      <td>1160.637076</td>\n",
              "      <td>10.320856</td>\n",
              "      <td>2</td>\n",
              "      <td>2020-04-13</td>\n",
              "      <td>23:07:54</td>\n",
              "    </tr>\n",
              "    <tr>\n",
              "      <th>Tennessee</th>\n",
              "      <td>US</td>\n",
              "      <td>2020-04-14 23:33:31</td>\n",
              "      <td>35.7478</td>\n",
              "      <td>-86.6923</td>\n",
              "      <td>5827</td>\n",
              "      <td>124</td>\n",
              "      <td>1969.0</td>\n",
              "      <td>5703.0</td>\n",
              "      <td>47.0</td>\n",
              "      <td>88.759528</td>\n",
              "      <td>78831.0</td>\n",
              "      <td>633.0</td>\n",
              "      <td>2.128025</td>\n",
              "      <td>84000047.0</td>\n",
              "      <td>USA</td>\n",
              "      <td>1200.789833</td>\n",
              "      <td>10.863223</td>\n",
              "      <td>3</td>\n",
              "      <td>2020-04-14</td>\n",
              "      <td>23:33:31</td>\n",
              "    </tr>\n",
              "    <tr>\n",
              "      <th>Tennessee</th>\n",
              "      <td>US</td>\n",
              "      <td>2020-04-15 22:56:51</td>\n",
              "      <td>35.7478</td>\n",
              "      <td>-86.6923</td>\n",
              "      <td>5827</td>\n",
              "      <td>124</td>\n",
              "      <td>2196.0</td>\n",
              "      <td>5703.0</td>\n",
              "      <td>47.0</td>\n",
              "      <td>88.759528</td>\n",
              "      <td>80896.0</td>\n",
              "      <td>663.0</td>\n",
              "      <td>2.128025</td>\n",
              "      <td>84000047.0</td>\n",
              "      <td>USA</td>\n",
              "      <td>1232.244857</td>\n",
              "      <td>11.378068</td>\n",
              "      <td>4</td>\n",
              "      <td>2020-04-15</td>\n",
              "      <td>22:56:51</td>\n",
              "    </tr>\n",
              "    <tr>\n",
              "      <th>Tennessee</th>\n",
              "      <td>US</td>\n",
              "      <td>2020-04-16 23:30:51</td>\n",
              "      <td>35.7478</td>\n",
              "      <td>-86.6923</td>\n",
              "      <td>6375</td>\n",
              "      <td>136</td>\n",
              "      <td>2786.0</td>\n",
              "      <td>6239.0</td>\n",
              "      <td>47.0</td>\n",
              "      <td>97.106915</td>\n",
              "      <td>85049.0</td>\n",
              "      <td>691.0</td>\n",
              "      <td>2.133333</td>\n",
              "      <td>84000047.0</td>\n",
              "      <td>USA</td>\n",
              "      <td>1295.505252</td>\n",
              "      <td>10.839216</td>\n",
              "      <td>5</td>\n",
              "      <td>2020-04-16</td>\n",
              "      <td>23:30:51</td>\n",
              "    </tr>\n",
              "  </tbody>\n",
              "</table>\n",
              "</div>"
            ],
            "text/plain": [
              "               Country_Region          Last_Update  ...        Date  Time_Reported\n",
              "Province_State                                      ...                           \n",
              "Tennessee                  US  2020-04-12 23:18:15  ...  2020-04-12       23:18:15\n",
              "Tennessee                  US  2020-04-13 23:07:54  ...  2020-04-13       23:07:54\n",
              "Tennessee                  US  2020-04-14 23:33:31  ...  2020-04-14       23:33:31\n",
              "Tennessee                  US  2020-04-15 22:56:51  ...  2020-04-15       22:56:51\n",
              "Tennessee                  US  2020-04-16 23:30:51  ...  2020-04-16       23:30:51\n",
              "\n",
              "[5 rows x 20 columns]"
            ]
          },
          "metadata": {
            "tags": []
          },
          "execution_count": 10
        }
      ]
    },
    {
      "cell_type": "code",
      "metadata": {
        "id": "-PnwKUlENimM",
        "outputId": "97f6e35c-7f71-4474-8352-b075596b68c2",
        "colab": {
          "base_uri": "https://localhost:8080/",
          "height": 346
        }
      },
      "source": [
        "tn_daily['Date'] = pd.to_datetime(tn_daily['Date'], infer_datetime_format=True)\n",
        "tn_daily.head(3)"
      ],
      "execution_count": 11,
      "outputs": [
        {
          "output_type": "stream",
          "text": [
            "/usr/local/lib/python3.6/dist-packages/ipykernel_launcher.py:1: SettingWithCopyWarning: \n",
            "A value is trying to be set on a copy of a slice from a DataFrame.\n",
            "Try using .loc[row_indexer,col_indexer] = value instead\n",
            "\n",
            "See the caveats in the documentation: https://pandas.pydata.org/pandas-docs/stable/user_guide/indexing.html#returning-a-view-versus-a-copy\n",
            "  \"\"\"Entry point for launching an IPython kernel.\n"
          ],
          "name": "stderr"
        },
        {
          "output_type": "execute_result",
          "data": {
            "text/html": [
              "<div>\n",
              "<style scoped>\n",
              "    .dataframe tbody tr th:only-of-type {\n",
              "        vertical-align: middle;\n",
              "    }\n",
              "\n",
              "    .dataframe tbody tr th {\n",
              "        vertical-align: top;\n",
              "    }\n",
              "\n",
              "    .dataframe thead th {\n",
              "        text-align: right;\n",
              "    }\n",
              "</style>\n",
              "<table border=\"1\" class=\"dataframe\">\n",
              "  <thead>\n",
              "    <tr style=\"text-align: right;\">\n",
              "      <th></th>\n",
              "      <th>Country_Region</th>\n",
              "      <th>Last_Update</th>\n",
              "      <th>Lat</th>\n",
              "      <th>Long_</th>\n",
              "      <th>Confirmed</th>\n",
              "      <th>Deaths</th>\n",
              "      <th>Recovered</th>\n",
              "      <th>Active</th>\n",
              "      <th>FIPS</th>\n",
              "      <th>Incident_Rate</th>\n",
              "      <th>People_Tested</th>\n",
              "      <th>People_Hospitalized</th>\n",
              "      <th>Mortality_Rate</th>\n",
              "      <th>UID</th>\n",
              "      <th>ISO3</th>\n",
              "      <th>Testing_Rate</th>\n",
              "      <th>Hospitalization_Rate</th>\n",
              "      <th>Days_Tracked</th>\n",
              "      <th>Date</th>\n",
              "      <th>Time_Reported</th>\n",
              "    </tr>\n",
              "    <tr>\n",
              "      <th>Province_State</th>\n",
              "      <th></th>\n",
              "      <th></th>\n",
              "      <th></th>\n",
              "      <th></th>\n",
              "      <th></th>\n",
              "      <th></th>\n",
              "      <th></th>\n",
              "      <th></th>\n",
              "      <th></th>\n",
              "      <th></th>\n",
              "      <th></th>\n",
              "      <th></th>\n",
              "      <th></th>\n",
              "      <th></th>\n",
              "      <th></th>\n",
              "      <th></th>\n",
              "      <th></th>\n",
              "      <th></th>\n",
              "      <th></th>\n",
              "      <th></th>\n",
              "    </tr>\n",
              "  </thead>\n",
              "  <tbody>\n",
              "    <tr>\n",
              "      <th>Tennessee</th>\n",
              "      <td>US</td>\n",
              "      <td>2020-04-12 23:18:15</td>\n",
              "      <td>35.7478</td>\n",
              "      <td>-86.6923</td>\n",
              "      <td>5508</td>\n",
              "      <td>106</td>\n",
              "      <td>1504.0</td>\n",
              "      <td>5402.0</td>\n",
              "      <td>47.0</td>\n",
              "      <td>83.900374</td>\n",
              "      <td>70677.0</td>\n",
              "      <td>567.0</td>\n",
              "      <td>1.924473</td>\n",
              "      <td>84000047.0</td>\n",
              "      <td>USA</td>\n",
              "      <td>1076.584377</td>\n",
              "      <td>10.294118</td>\n",
              "      <td>1</td>\n",
              "      <td>2020-04-12</td>\n",
              "      <td>23:18:15</td>\n",
              "    </tr>\n",
              "    <tr>\n",
              "      <th>Tennessee</th>\n",
              "      <td>US</td>\n",
              "      <td>2020-04-13 23:07:54</td>\n",
              "      <td>35.7478</td>\n",
              "      <td>-86.6923</td>\n",
              "      <td>5610</td>\n",
              "      <td>109</td>\n",
              "      <td>1671.0</td>\n",
              "      <td>5501.0</td>\n",
              "      <td>47.0</td>\n",
              "      <td>85.454085</td>\n",
              "      <td>76195.0</td>\n",
              "      <td>579.0</td>\n",
              "      <td>1.942959</td>\n",
              "      <td>84000047.0</td>\n",
              "      <td>USA</td>\n",
              "      <td>1160.637076</td>\n",
              "      <td>10.320856</td>\n",
              "      <td>2</td>\n",
              "      <td>2020-04-13</td>\n",
              "      <td>23:07:54</td>\n",
              "    </tr>\n",
              "    <tr>\n",
              "      <th>Tennessee</th>\n",
              "      <td>US</td>\n",
              "      <td>2020-04-14 23:33:31</td>\n",
              "      <td>35.7478</td>\n",
              "      <td>-86.6923</td>\n",
              "      <td>5827</td>\n",
              "      <td>124</td>\n",
              "      <td>1969.0</td>\n",
              "      <td>5703.0</td>\n",
              "      <td>47.0</td>\n",
              "      <td>88.759528</td>\n",
              "      <td>78831.0</td>\n",
              "      <td>633.0</td>\n",
              "      <td>2.128025</td>\n",
              "      <td>84000047.0</td>\n",
              "      <td>USA</td>\n",
              "      <td>1200.789833</td>\n",
              "      <td>10.863223</td>\n",
              "      <td>3</td>\n",
              "      <td>2020-04-14</td>\n",
              "      <td>23:33:31</td>\n",
              "    </tr>\n",
              "  </tbody>\n",
              "</table>\n",
              "</div>"
            ],
            "text/plain": [
              "               Country_Region          Last_Update  ...       Date  Time_Reported\n",
              "Province_State                                      ...                          \n",
              "Tennessee                  US  2020-04-12 23:18:15  ... 2020-04-12       23:18:15\n",
              "Tennessee                  US  2020-04-13 23:07:54  ... 2020-04-13       23:07:54\n",
              "Tennessee                  US  2020-04-14 23:33:31  ... 2020-04-14       23:33:31\n",
              "\n",
              "[3 rows x 20 columns]"
            ]
          },
          "metadata": {
            "tags": []
          },
          "execution_count": 11
        }
      ]
    },
    {
      "cell_type": "code",
      "metadata": {
        "id": "XC1XOkShEBx2",
        "outputId": "671f196d-c862-4fc4-e8fc-0fd093277bc1",
        "colab": {
          "base_uri": "https://localhost:8080/",
          "height": 235
        }
      },
      "source": [
        "RecovActive = tn_daily[['Recovered', 'Active', 'Date']]\n",
        "RecovActive.head()"
      ],
      "execution_count": 12,
      "outputs": [
        {
          "output_type": "execute_result",
          "data": {
            "text/html": [
              "<div>\n",
              "<style scoped>\n",
              "    .dataframe tbody tr th:only-of-type {\n",
              "        vertical-align: middle;\n",
              "    }\n",
              "\n",
              "    .dataframe tbody tr th {\n",
              "        vertical-align: top;\n",
              "    }\n",
              "\n",
              "    .dataframe thead th {\n",
              "        text-align: right;\n",
              "    }\n",
              "</style>\n",
              "<table border=\"1\" class=\"dataframe\">\n",
              "  <thead>\n",
              "    <tr style=\"text-align: right;\">\n",
              "      <th></th>\n",
              "      <th>Recovered</th>\n",
              "      <th>Active</th>\n",
              "      <th>Date</th>\n",
              "    </tr>\n",
              "    <tr>\n",
              "      <th>Province_State</th>\n",
              "      <th></th>\n",
              "      <th></th>\n",
              "      <th></th>\n",
              "    </tr>\n",
              "  </thead>\n",
              "  <tbody>\n",
              "    <tr>\n",
              "      <th>Tennessee</th>\n",
              "      <td>1504.0</td>\n",
              "      <td>5402.0</td>\n",
              "      <td>2020-04-12</td>\n",
              "    </tr>\n",
              "    <tr>\n",
              "      <th>Tennessee</th>\n",
              "      <td>1671.0</td>\n",
              "      <td>5501.0</td>\n",
              "      <td>2020-04-13</td>\n",
              "    </tr>\n",
              "    <tr>\n",
              "      <th>Tennessee</th>\n",
              "      <td>1969.0</td>\n",
              "      <td>5703.0</td>\n",
              "      <td>2020-04-14</td>\n",
              "    </tr>\n",
              "    <tr>\n",
              "      <th>Tennessee</th>\n",
              "      <td>2196.0</td>\n",
              "      <td>5703.0</td>\n",
              "      <td>2020-04-15</td>\n",
              "    </tr>\n",
              "    <tr>\n",
              "      <th>Tennessee</th>\n",
              "      <td>2786.0</td>\n",
              "      <td>6239.0</td>\n",
              "      <td>2020-04-16</td>\n",
              "    </tr>\n",
              "  </tbody>\n",
              "</table>\n",
              "</div>"
            ],
            "text/plain": [
              "                Recovered  Active       Date\n",
              "Province_State                              \n",
              "Tennessee          1504.0  5402.0 2020-04-12\n",
              "Tennessee          1671.0  5501.0 2020-04-13\n",
              "Tennessee          1969.0  5703.0 2020-04-14\n",
              "Tennessee          2196.0  5703.0 2020-04-15\n",
              "Tennessee          2786.0  6239.0 2020-04-16"
            ]
          },
          "metadata": {
            "tags": []
          },
          "execution_count": 12
        }
      ]
    },
    {
      "cell_type": "code",
      "metadata": {
        "id": "jMX84h1sEByD",
        "outputId": "754a803a-2a9e-471f-d95d-21b12bd336aa",
        "colab": {
          "base_uri": "https://localhost:8080/",
          "height": 297
        }
      },
      "source": [
        "plt.plot(tn_daily['Date'], tn_daily['Active'], label='# Active Cases', \n",
        "         linewidth=3, color='maroon')\n",
        "plt.xlabel(\"Days Tracked\", size=14)\n",
        "plt.title(\"COVID-19 in Tennessee\")\n",
        "plt.legend()\n",
        "plt.show()"
      ],
      "execution_count": 13,
      "outputs": [
        {
          "output_type": "display_data",
          "data": {
            "image/png": "[encoded data removed]",
            "text/plain": [
              "<Figure size 432x288 with 1 Axes>"
            ]
          },
          "metadata": {
            "tags": [],
            "needs_background": "light"
          }
        }
      ]
    },
    {
      "cell_type": "code",
      "metadata": {
        "id": "rCBeHrIYEByM"
      },
      "source": [
        "def build_plots(df, x, y, y2=None):\n",
        "  plt.plot(x, y, data=df, label=y, linewidth=3)\n",
        "  if y2 != None:\n",
        "    plt.plot(x, y2, data=df, label=y2, linewidth=3)\n",
        "  plt.plot()\n",
        "    \n",
        "  plt.xlabel(x, size=14)\n",
        "  plt.xticks(rotation=30)\n",
        "  plt.title(\"COVID-19 in Tennessee\")\n",
        "  plt.legend()\n",
        "  return plt.show()"
      ],
      "execution_count": 14,
      "outputs": []
    },
    {
      "cell_type": "code",
      "metadata": {
        "id": "XOcTRsW9EByO",
        "outputId": "c8daa19b-b782-4410-d556-2d41ad27bc81",
        "colab": {
          "base_uri": "https://localhost:8080/",
          "height": 316
        }
      },
      "source": [
        "build_plots(tn_daily, 'Date', 'Mortality_Rate')"
      ],
      "execution_count": 15,
      "outputs": [
        {
          "output_type": "display_data",
          "data": {
            "image/png": "[encoded data removed]",
            "text/plain": [
              "<Figure size 432x288 with 1 Axes>"
            ]
          },
          "metadata": {
            "tags": [],
            "needs_background": "light"
          }
        }
      ]
    },
    {
      "cell_type": "code",
      "metadata": {
        "id": "WwxMsJjPEByQ",
        "outputId": "4f315379-6f60-47b3-921c-060111a04701",
        "colab": {
          "base_uri": "https://localhost:8080/",
          "height": 316
        }
      },
      "source": [
        "build_plots(tn_daily, 'Date', 'Confirmed', 'Active')"
      ],
      "execution_count": 16,
      "outputs": [
        {
          "output_type": "display_data",
          "data": {
            "image/png": "[encoded data removed]",
            "text/plain": [
              "<Figure size 432x288 with 1 Axes>"
            ]
          },
          "metadata": {
            "tags": [],
            "needs_background": "light"
          }
        }
      ]
    },
    {
      "cell_type": "code",
      "metadata": {
        "id": "xI2QBDrlEByY",
        "outputId": "87b6b087-2ce1-4b52-d578-37fe9ef96033",
        "colab": {
          "base_uri": "https://localhost:8080/",
          "height": 297
        }
      },
      "source": [
        "PctPos = (tn_daily['Confirmed'] / tn_daily['People_Tested']) * 100\n",
        "plt.plot(tn_daily['Date'], PctPos, label='% of Positive Cases', \n",
        "         linewidth=3, linestyle='--')\n",
        "plt.xlabel(\"Days Tracked\", size=14)\n",
        "plt.title(\"COVID-19 in Tennessee\")\n",
        "plt.legend()\n",
        "plt.show()"
      ],
      "execution_count": 17,
      "outputs": [
        {
          "output_type": "display_data",
          "data": {
            "image/png": "[encoded data removed]",
            "text/plain": [
              "<Figure size 432x288 with 1 Axes>"
            ]
          },
          "metadata": {
            "tags": [],
            "needs_background": "light"
          }
        }
      ]
    }
  ]
}